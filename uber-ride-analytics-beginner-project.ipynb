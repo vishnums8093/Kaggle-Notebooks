{
 "cells": [
  {
   "cell_type": "code",
   "execution_count": 1,
   "id": "0968fa3e",
   "metadata": {
    "_execution_state": "idle",
    "_uuid": "051d70d956493feee0c6d64651c6a088724dca2a",
    "execution": {
     "iopub.execute_input": "2025-09-22T16:37:40.555182Z",
     "iopub.status.busy": "2025-09-22T16:37:40.552484Z",
     "iopub.status.idle": "2025-09-22T16:37:41.978231Z",
     "shell.execute_reply": "2025-09-22T16:37:41.976371Z"
    },
    "papermill": {
     "duration": 1.436786,
     "end_time": "2025-09-22T16:37:41.980815",
     "exception": false,
     "start_time": "2025-09-22T16:37:40.544029",
     "status": "completed"
    },
    "tags": []
   },
   "outputs": [
    {
     "name": "stderr",
     "output_type": "stream",
     "text": [
      "── \u001b[1mAttaching core tidyverse packages\u001b[22m ──────────────────────── tidyverse 2.0.0 ──\n",
      "\u001b[32m✔\u001b[39m \u001b[34mdplyr    \u001b[39m 1.1.4     \u001b[32m✔\u001b[39m \u001b[34mreadr    \u001b[39m 2.1.5\n",
      "\u001b[32m✔\u001b[39m \u001b[34mforcats  \u001b[39m 1.0.0     \u001b[32m✔\u001b[39m \u001b[34mstringr  \u001b[39m 1.5.1\n",
      "\u001b[32m✔\u001b[39m \u001b[34mggplot2  \u001b[39m 3.5.1     \u001b[32m✔\u001b[39m \u001b[34mtibble   \u001b[39m 3.2.1\n",
      "\u001b[32m✔\u001b[39m \u001b[34mlubridate\u001b[39m 1.9.3     \u001b[32m✔\u001b[39m \u001b[34mtidyr    \u001b[39m 1.3.1\n",
      "\u001b[32m✔\u001b[39m \u001b[34mpurrr    \u001b[39m 1.0.2     \n"
     ]
    },
    {
     "name": "stderr",
     "output_type": "stream",
     "text": [
      "── \u001b[1mConflicts\u001b[22m ────────────────────────────────────────── tidyverse_conflicts() ──\n",
      "\u001b[31m✖\u001b[39m \u001b[34mdplyr\u001b[39m::\u001b[32mfilter()\u001b[39m masks \u001b[34mstats\u001b[39m::filter()\n",
      "\u001b[31m✖\u001b[39m \u001b[34mdplyr\u001b[39m::\u001b[32mlag()\u001b[39m    masks \u001b[34mstats\u001b[39m::lag()\n",
      "\u001b[36mℹ\u001b[39m Use the conflicted package (\u001b[3m\u001b[34m<http://conflicted.r-lib.org/>\u001b[39m\u001b[23m) to force all conflicts to become errors\n"
     ]
    },
    {
     "data": {
      "text/html": [
       "'uber-ride-analytics-dashboard'"
      ],
      "text/latex": [
       "'uber-ride-analytics-dashboard'"
      ],
      "text/markdown": [
       "'uber-ride-analytics-dashboard'"
      ],
      "text/plain": [
       "[1] \"uber-ride-analytics-dashboard\""
      ]
     },
     "metadata": {},
     "output_type": "display_data"
    }
   ],
   "source": [
    "# This R environment comes with many helpful analytics packages installed\n",
    "# It is defined by the kaggle/rstats Docker image: https://github.com/kaggle/docker-rstats\n",
    "# For example, here's a helpful package to load\n",
    "\n",
    "library(tidyverse) # metapackage of all tidyverse packages\n",
    "\n",
    "# Input data files are available in the read-only \"../input/\" directory\n",
    "# For example, running this (by clicking run or pressing Shift+Enter) will list all files under the input directory\n",
    "\n",
    "list.files(path = \"../input\")\n",
    "\n",
    "# You can write up to 20GB to the current directory (/kaggle/working/) that gets preserved as output when you create a version using \"Save & Run All\" \n",
    "# You can also write temporary files to /kaggle/temp/, but they won't be saved outside of the current session"
   ]
  },
  {
   "cell_type": "markdown",
   "id": "8a02fcd1",
   "metadata": {
    "papermill": {
     "duration": 0.004492,
     "end_time": "2025-09-22T16:37:41.990526",
     "exception": false,
     "start_time": "2025-09-22T16:37:41.986034",
     "status": "completed"
    },
    "tags": []
   },
   "source": []
  },
  {
   "cell_type": "markdown",
   "id": "872a2ac3",
   "metadata": {
    "papermill": {
     "duration": 0.004428,
     "end_time": "2025-09-22T16:37:41.999448",
     "exception": false,
     "start_time": "2025-09-22T16:37:41.995020",
     "status": "completed"
    },
    "tags": []
   },
   "source": [
    "# **Uber Ride Analytics - Beginner R project**\n",
    "# **1.Introduction**\n",
    "### This project is serves as mini tutorial to practice fundamental data analysis skills in R\n",
    "# **2.Problem statement**\n",
    "### The main goal of this analysis is to explore the patterns in the Uber rides and find insights\n",
    "### 2.1 Overall Performance: What is the overall ride completion rate, and what are the specific rates for each type of cancellation?\n",
    "### 2.2 Location-Based Patterns: Are there starting or ending points with high cancellation rates or where a driver was not found?\n",
    "### 2.3 Vehicle Type Analysis: Do certain vehicle types have higher customer or driver cancellation rates?\n",
    "### 2.4 Waiting Time & Completion: Is there a relationship between waiting time and likelihood of cancellation?\n",
    "# **3. Data Source**\n",
    "### The dataset is from Kaggle: /kaggle/input/uber-ride-analytics-dashboard\n",
    "# **4. Load libraries**\n",
    "### Load libraries for data manipulation and analysis\n"
   ]
  },
  {
   "cell_type": "code",
   "execution_count": 2,
   "id": "7af91009",
   "metadata": {
    "execution": {
     "iopub.execute_input": "2025-09-22T16:37:42.035512Z",
     "iopub.status.busy": "2025-09-22T16:37:42.010571Z",
     "iopub.status.idle": "2025-09-22T16:37:42.048664Z",
     "shell.execute_reply": "2025-09-22T16:37:42.047222Z"
    },
    "papermill": {
     "duration": 0.047283,
     "end_time": "2025-09-22T16:37:42.051123",
     "exception": false,
     "start_time": "2025-09-22T16:37:42.003840",
     "status": "completed"
    },
    "tags": []
   },
   "outputs": [],
   "source": [
    "library(readr)\n",
    "library(dplyr) # for data analysis and manipulation\n",
    "library(ggplot2) # for data visualization"
   ]
  },
  {
   "cell_type": "markdown",
   "id": "00855b53",
   "metadata": {
    "papermill": {
     "duration": 0.004747,
     "end_time": "2025-09-22T16:37:42.061163",
     "exception": false,
     "start_time": "2025-09-22T16:37:42.056416",
     "status": "completed"
    },
    "tags": []
   },
   "source": [
    "# **5. Load Data**"
   ]
  },
  {
   "cell_type": "code",
   "execution_count": 3,
   "id": "059cc306",
   "metadata": {
    "execution": {
     "iopub.execute_input": "2025-09-22T16:37:42.073706Z",
     "iopub.status.busy": "2025-09-22T16:37:42.072323Z",
     "iopub.status.idle": "2025-09-22T16:37:42.095328Z",
     "shell.execute_reply": "2025-09-22T16:37:42.092909Z"
    },
    "papermill": {
     "duration": 0.032008,
     "end_time": "2025-09-22T16:37:42.097753",
     "exception": false,
     "start_time": "2025-09-22T16:37:42.065745",
     "status": "completed"
    },
    "tags": []
   },
   "outputs": [
    {
     "data": {
      "text/html": [
       "<style>\n",
       ".list-inline {list-style: none; margin:0; padding: 0}\n",
       ".list-inline>li {display: inline-block}\n",
       ".list-inline>li:not(:last-child)::after {content: \"\\00b7\"; padding: 0 .5ex}\n",
       "</style>\n",
       "<ol class=list-inline><li>'Dasboard.gif'</li><li>'ncr_ride_bookings.csv'</li><li>'Uber.pbix'</li></ol>\n"
      ],
      "text/latex": [
       "\\begin{enumerate*}\n",
       "\\item 'Dasboard.gif'\n",
       "\\item 'ncr\\_ride\\_bookings.csv'\n",
       "\\item 'Uber.pbix'\n",
       "\\end{enumerate*}\n"
      ],
      "text/markdown": [
       "1. 'Dasboard.gif'\n",
       "2. 'ncr_ride_bookings.csv'\n",
       "3. 'Uber.pbix'\n",
       "\n",
       "\n"
      ],
      "text/plain": [
       "[1] \"Dasboard.gif\"          \"ncr_ride_bookings.csv\" \"Uber.pbix\"            "
      ]
     },
     "metadata": {},
     "output_type": "display_data"
    }
   ],
   "source": [
    "list.files(path = \"/kaggle/input/uber-ride-analytics-dashboard\")"
   ]
  },
  {
   "cell_type": "code",
   "execution_count": 4,
   "id": "31a0f15d",
   "metadata": {
    "execution": {
     "iopub.execute_input": "2025-09-22T16:37:42.112821Z",
     "iopub.status.busy": "2025-09-22T16:37:42.111148Z",
     "iopub.status.idle": "2025-09-22T16:37:43.187497Z",
     "shell.execute_reply": "2025-09-22T16:37:43.185698Z"
    },
    "papermill": {
     "duration": 1.087024,
     "end_time": "2025-09-22T16:37:43.190411",
     "exception": false,
     "start_time": "2025-09-22T16:37:42.103387",
     "status": "completed"
    },
    "tags": []
   },
   "outputs": [
    {
     "name": "stderr",
     "output_type": "stream",
     "text": [
      "\u001b[1mRows: \u001b[22m\u001b[34m150000\u001b[39m \u001b[1mColumns: \u001b[22m\u001b[34m21\u001b[39m\n"
     ]
    },
    {
     "name": "stderr",
     "output_type": "stream",
     "text": [
      "\u001b[36m──\u001b[39m \u001b[1mColumn specification\u001b[22m \u001b[36m────────────────────────────────────────────────────────\u001b[39m\n",
      "\u001b[1mDelimiter:\u001b[22m \",\"\n",
      "\u001b[31mchr\u001b[39m  (19): Booking ID, Booking Status, Customer ID, Vehicle Type, Pickup Loc...\n",
      "\u001b[34mdate\u001b[39m  (1): Date\n",
      "\u001b[34mtime\u001b[39m  (1): Time\n"
     ]
    },
    {
     "name": "stderr",
     "output_type": "stream",
     "text": [
      "\n",
      "\u001b[36mℹ\u001b[39m Use `spec()` to retrieve the full column specification for this data.\n",
      "\u001b[36mℹ\u001b[39m Specify the column types or set `show_col_types = FALSE` to quiet this message.\n"
     ]
    }
   ],
   "source": [
    "uber_data <- read_csv(\"/kaggle/input/uber-ride-analytics-dashboard/ncr_ride_bookings.csv\")"
   ]
  },
  {
   "cell_type": "code",
   "execution_count": 5,
   "id": "7e74736b",
   "metadata": {
    "execution": {
     "iopub.execute_input": "2025-09-22T16:37:43.205547Z",
     "iopub.status.busy": "2025-09-22T16:37:43.204041Z",
     "iopub.status.idle": "2025-09-22T16:37:43.385652Z",
     "shell.execute_reply": "2025-09-22T16:37:43.383205Z"
    },
    "papermill": {
     "duration": 0.191151,
     "end_time": "2025-09-22T16:37:43.387943",
     "exception": false,
     "start_time": "2025-09-22T16:37:43.196792",
     "status": "completed"
    },
    "tags": []
   },
   "outputs": [
    {
     "data": {
      "text/html": [
       "<table class=\"dataframe\">\n",
       "<caption>A tibble: 6 × 21</caption>\n",
       "<thead>\n",
       "\t<tr><th scope=col>Date</th><th scope=col>Time</th><th scope=col>Booking ID</th><th scope=col>Booking Status</th><th scope=col>Customer ID</th><th scope=col>Vehicle Type</th><th scope=col>Pickup Location</th><th scope=col>Drop Location</th><th scope=col>Avg VTAT</th><th scope=col>Avg CTAT</th><th scope=col>⋯</th><th scope=col>Reason for cancelling by Customer</th><th scope=col>Cancelled Rides by Driver</th><th scope=col>Driver Cancellation Reason</th><th scope=col>Incomplete Rides</th><th scope=col>Incomplete Rides Reason</th><th scope=col>Booking Value</th><th scope=col>Ride Distance</th><th scope=col>Driver Ratings</th><th scope=col>Customer Rating</th><th scope=col>Payment Method</th></tr>\n",
       "\t<tr><th scope=col>&lt;date&gt;</th><th scope=col>&lt;time&gt;</th><th scope=col>&lt;chr&gt;</th><th scope=col>&lt;chr&gt;</th><th scope=col>&lt;chr&gt;</th><th scope=col>&lt;chr&gt;</th><th scope=col>&lt;chr&gt;</th><th scope=col>&lt;chr&gt;</th><th scope=col>&lt;chr&gt;</th><th scope=col>&lt;chr&gt;</th><th scope=col>⋯</th><th scope=col>&lt;chr&gt;</th><th scope=col>&lt;chr&gt;</th><th scope=col>&lt;chr&gt;</th><th scope=col>&lt;chr&gt;</th><th scope=col>&lt;chr&gt;</th><th scope=col>&lt;chr&gt;</th><th scope=col>&lt;chr&gt;</th><th scope=col>&lt;chr&gt;</th><th scope=col>&lt;chr&gt;</th><th scope=col>&lt;chr&gt;</th></tr>\n",
       "</thead>\n",
       "<tbody>\n",
       "\t<tr><td>2024-03-23</td><td>12:29:38</td><td>\"CNR5884300\"</td><td>No Driver Found</td><td>\"CID1982111\"</td><td>eBike        </td><td>Palam Vihar        </td><td>Jhilmil          </td><td>null</td><td>null</td><td>⋯</td><td>null</td><td>null</td><td>null</td><td>null</td><td>null             </td><td>null</td><td>null </td><td>null</td><td>null</td><td>null      </td></tr>\n",
       "\t<tr><td>2024-11-29</td><td>18:01:39</td><td>\"CNR1326809\"</td><td>Incomplete     </td><td>\"CID4604802\"</td><td>Go Sedan     </td><td>Shastri Nagar      </td><td>Gurgaon Sector 56</td><td>4.9 </td><td>14.0</td><td>⋯</td><td>null</td><td>null</td><td>null</td><td>1   </td><td>Vehicle Breakdown</td><td>237 </td><td>5.73 </td><td>null</td><td>null</td><td>UPI       </td></tr>\n",
       "\t<tr><td>2024-08-23</td><td>08:56:10</td><td>\"CNR8494506\"</td><td>Completed      </td><td>\"CID9202816\"</td><td>Auto         </td><td>Khandsa            </td><td>Malviya Nagar    </td><td>13.4</td><td>25.8</td><td>⋯</td><td>null</td><td>null</td><td>null</td><td>null</td><td>null             </td><td>627 </td><td>13.58</td><td>4.9 </td><td>4.9 </td><td>Debit Card</td></tr>\n",
       "\t<tr><td>2024-10-21</td><td>17:17:25</td><td>\"CNR8906825\"</td><td>Completed      </td><td>\"CID2610914\"</td><td>Premier Sedan</td><td>Central Secretariat</td><td>Inderlok         </td><td>13.1</td><td>28.5</td><td>⋯</td><td>null</td><td>null</td><td>null</td><td>null</td><td>null             </td><td>416 </td><td>34.02</td><td>4.6 </td><td>5.0 </td><td>UPI       </td></tr>\n",
       "\t<tr><td>2024-09-16</td><td>22:08:00</td><td>\"CNR1950162\"</td><td>Completed      </td><td>\"CID9933542\"</td><td>Bike         </td><td>Ghitorni Village   </td><td>Khan Market      </td><td>5.3 </td><td>19.6</td><td>⋯</td><td>null</td><td>null</td><td>null</td><td>null</td><td>null             </td><td>737 </td><td>48.21</td><td>4.1 </td><td>4.3 </td><td>UPI       </td></tr>\n",
       "\t<tr><td>2024-02-06</td><td>09:44:56</td><td>\"CNR4096693\"</td><td>Completed      </td><td>\"CID4670564\"</td><td>Auto         </td><td>AIIMS              </td><td>Narsinghpur      </td><td>5.1 </td><td>18.1</td><td>⋯</td><td>null</td><td>null</td><td>null</td><td>null</td><td>null             </td><td>316 </td><td>4.85 </td><td>4.1 </td><td>4.6 </td><td>UPI       </td></tr>\n",
       "</tbody>\n",
       "</table>\n"
      ],
      "text/latex": [
       "A tibble: 6 × 21\n",
       "\\begin{tabular}{lllllllllllllllllllll}\n",
       " Date & Time & Booking ID & Booking Status & Customer ID & Vehicle Type & Pickup Location & Drop Location & Avg VTAT & Avg CTAT & ⋯ & Reason for cancelling by Customer & Cancelled Rides by Driver & Driver Cancellation Reason & Incomplete Rides & Incomplete Rides Reason & Booking Value & Ride Distance & Driver Ratings & Customer Rating & Payment Method\\\\\n",
       " <date> & <time> & <chr> & <chr> & <chr> & <chr> & <chr> & <chr> & <chr> & <chr> & ⋯ & <chr> & <chr> & <chr> & <chr> & <chr> & <chr> & <chr> & <chr> & <chr> & <chr>\\\\\n",
       "\\hline\n",
       "\t 2024-03-23 & 12:29:38 & \"CNR5884300\" & No Driver Found & \"CID1982111\" & eBike         & Palam Vihar         & Jhilmil           & null & null & ⋯ & null & null & null & null & null              & null & null  & null & null & null      \\\\\n",
       "\t 2024-11-29 & 18:01:39 & \"CNR1326809\" & Incomplete      & \"CID4604802\" & Go Sedan      & Shastri Nagar       & Gurgaon Sector 56 & 4.9  & 14.0 & ⋯ & null & null & null & 1    & Vehicle Breakdown & 237  & 5.73  & null & null & UPI       \\\\\n",
       "\t 2024-08-23 & 08:56:10 & \"CNR8494506\" & Completed       & \"CID9202816\" & Auto          & Khandsa             & Malviya Nagar     & 13.4 & 25.8 & ⋯ & null & null & null & null & null              & 627  & 13.58 & 4.9  & 4.9  & Debit Card\\\\\n",
       "\t 2024-10-21 & 17:17:25 & \"CNR8906825\" & Completed       & \"CID2610914\" & Premier Sedan & Central Secretariat & Inderlok          & 13.1 & 28.5 & ⋯ & null & null & null & null & null              & 416  & 34.02 & 4.6  & 5.0  & UPI       \\\\\n",
       "\t 2024-09-16 & 22:08:00 & \"CNR1950162\" & Completed       & \"CID9933542\" & Bike          & Ghitorni Village    & Khan Market       & 5.3  & 19.6 & ⋯ & null & null & null & null & null              & 737  & 48.21 & 4.1  & 4.3  & UPI       \\\\\n",
       "\t 2024-02-06 & 09:44:56 & \"CNR4096693\" & Completed       & \"CID4670564\" & Auto          & AIIMS               & Narsinghpur       & 5.1  & 18.1 & ⋯ & null & null & null & null & null              & 316  & 4.85  & 4.1  & 4.6  & UPI       \\\\\n",
       "\\end{tabular}\n"
      ],
      "text/markdown": [
       "\n",
       "A tibble: 6 × 21\n",
       "\n",
       "| Date &lt;date&gt; | Time &lt;time&gt; | Booking ID &lt;chr&gt; | Booking Status &lt;chr&gt; | Customer ID &lt;chr&gt; | Vehicle Type &lt;chr&gt; | Pickup Location &lt;chr&gt; | Drop Location &lt;chr&gt; | Avg VTAT &lt;chr&gt; | Avg CTAT &lt;chr&gt; | ⋯ ⋯ | Reason for cancelling by Customer &lt;chr&gt; | Cancelled Rides by Driver &lt;chr&gt; | Driver Cancellation Reason &lt;chr&gt; | Incomplete Rides &lt;chr&gt; | Incomplete Rides Reason &lt;chr&gt; | Booking Value &lt;chr&gt; | Ride Distance &lt;chr&gt; | Driver Ratings &lt;chr&gt; | Customer Rating &lt;chr&gt; | Payment Method &lt;chr&gt; |\n",
       "|---|---|---|---|---|---|---|---|---|---|---|---|---|---|---|---|---|---|---|---|---|\n",
       "| 2024-03-23 | 12:29:38 | \"CNR5884300\" | No Driver Found | \"CID1982111\" | eBike         | Palam Vihar         | Jhilmil           | null | null | ⋯ | null | null | null | null | null              | null | null  | null | null | null       |\n",
       "| 2024-11-29 | 18:01:39 | \"CNR1326809\" | Incomplete      | \"CID4604802\" | Go Sedan      | Shastri Nagar       | Gurgaon Sector 56 | 4.9  | 14.0 | ⋯ | null | null | null | 1    | Vehicle Breakdown | 237  | 5.73  | null | null | UPI        |\n",
       "| 2024-08-23 | 08:56:10 | \"CNR8494506\" | Completed       | \"CID9202816\" | Auto          | Khandsa             | Malviya Nagar     | 13.4 | 25.8 | ⋯ | null | null | null | null | null              | 627  | 13.58 | 4.9  | 4.9  | Debit Card |\n",
       "| 2024-10-21 | 17:17:25 | \"CNR8906825\" | Completed       | \"CID2610914\" | Premier Sedan | Central Secretariat | Inderlok          | 13.1 | 28.5 | ⋯ | null | null | null | null | null              | 416  | 34.02 | 4.6  | 5.0  | UPI        |\n",
       "| 2024-09-16 | 22:08:00 | \"CNR1950162\" | Completed       | \"CID9933542\" | Bike          | Ghitorni Village    | Khan Market       | 5.3  | 19.6 | ⋯ | null | null | null | null | null              | 737  | 48.21 | 4.1  | 4.3  | UPI        |\n",
       "| 2024-02-06 | 09:44:56 | \"CNR4096693\" | Completed       | \"CID4670564\" | Auto          | AIIMS               | Narsinghpur       | 5.1  | 18.1 | ⋯ | null | null | null | null | null              | 316  | 4.85  | 4.1  | 4.6  | UPI        |\n",
       "\n"
      ],
      "text/plain": [
       "  Date       Time     Booking ID   Booking Status  Customer ID  Vehicle Type \n",
       "1 2024-03-23 12:29:38 \"CNR5884300\" No Driver Found \"CID1982111\" eBike        \n",
       "2 2024-11-29 18:01:39 \"CNR1326809\" Incomplete      \"CID4604802\" Go Sedan     \n",
       "3 2024-08-23 08:56:10 \"CNR8494506\" Completed       \"CID9202816\" Auto         \n",
       "4 2024-10-21 17:17:25 \"CNR8906825\" Completed       \"CID2610914\" Premier Sedan\n",
       "5 2024-09-16 22:08:00 \"CNR1950162\" Completed       \"CID9933542\" Bike         \n",
       "6 2024-02-06 09:44:56 \"CNR4096693\" Completed       \"CID4670564\" Auto         \n",
       "  Pickup Location     Drop Location     Avg VTAT Avg CTAT ⋯\n",
       "1 Palam Vihar         Jhilmil           null     null     ⋯\n",
       "2 Shastri Nagar       Gurgaon Sector 56 4.9      14.0     ⋯\n",
       "3 Khandsa             Malviya Nagar     13.4     25.8     ⋯\n",
       "4 Central Secretariat Inderlok          13.1     28.5     ⋯\n",
       "5 Ghitorni Village    Khan Market       5.3      19.6     ⋯\n",
       "6 AIIMS               Narsinghpur       5.1      18.1     ⋯\n",
       "  Reason for cancelling by Customer Cancelled Rides by Driver\n",
       "1 null                              null                     \n",
       "2 null                              null                     \n",
       "3 null                              null                     \n",
       "4 null                              null                     \n",
       "5 null                              null                     \n",
       "6 null                              null                     \n",
       "  Driver Cancellation Reason Incomplete Rides Incomplete Rides Reason\n",
       "1 null                       null             null                   \n",
       "2 null                       1                Vehicle Breakdown      \n",
       "3 null                       null             null                   \n",
       "4 null                       null             null                   \n",
       "5 null                       null             null                   \n",
       "6 null                       null             null                   \n",
       "  Booking Value Ride Distance Driver Ratings Customer Rating Payment Method\n",
       "1 null          null          null           null            null          \n",
       "2 237           5.73          null           null            UPI           \n",
       "3 627           13.58         4.9            4.9             Debit Card    \n",
       "4 416           34.02         4.6            5.0             UPI           \n",
       "5 737           48.21         4.1            4.3             UPI           \n",
       "6 316           4.85          4.1            4.6             UPI           "
      ]
     },
     "metadata": {},
     "output_type": "display_data"
    },
    {
     "name": "stdout",
     "output_type": "stream",
     "text": [
      "spc_tbl_ [150,000 × 21] (S3: spec_tbl_df/tbl_df/tbl/data.frame)\n",
      " $ Date                             : Date[1:150000], format: \"2024-03-23\" \"2024-11-29\" ...\n",
      " $ Time                             : 'hms' num [1:150000] 12:29:38 18:01:39 08:56:10 17:17:25 ...\n",
      "  ..- attr(*, \"units\")= chr \"secs\"\n",
      " $ Booking ID                       : chr [1:150000] \"\\\"CNR5884300\\\"\" \"\\\"CNR1326809\\\"\" \"\\\"CNR8494506\\\"\" \"\\\"CNR8906825\\\"\" ...\n",
      " $ Booking Status                   : chr [1:150000] \"No Driver Found\" \"Incomplete\" \"Completed\" \"Completed\" ...\n",
      " $ Customer ID                      : chr [1:150000] \"\\\"CID1982111\\\"\" \"\\\"CID4604802\\\"\" \"\\\"CID9202816\\\"\" \"\\\"CID2610914\\\"\" ...\n",
      " $ Vehicle Type                     : chr [1:150000] \"eBike\" \"Go Sedan\" \"Auto\" \"Premier Sedan\" ...\n",
      " $ Pickup Location                  : chr [1:150000] \"Palam Vihar\" \"Shastri Nagar\" \"Khandsa\" \"Central Secretariat\" ...\n",
      " $ Drop Location                    : chr [1:150000] \"Jhilmil\" \"Gurgaon Sector 56\" \"Malviya Nagar\" \"Inderlok\" ...\n",
      " $ Avg VTAT                         : chr [1:150000] \"null\" \"4.9\" \"13.4\" \"13.1\" ...\n",
      " $ Avg CTAT                         : chr [1:150000] \"null\" \"14.0\" \"25.8\" \"28.5\" ...\n",
      " $ Cancelled Rides by Customer      : chr [1:150000] \"null\" \"null\" \"null\" \"null\" ...\n",
      " $ Reason for cancelling by Customer: chr [1:150000] \"null\" \"null\" \"null\" \"null\" ...\n",
      " $ Cancelled Rides by Driver        : chr [1:150000] \"null\" \"null\" \"null\" \"null\" ...\n",
      " $ Driver Cancellation Reason       : chr [1:150000] \"null\" \"null\" \"null\" \"null\" ...\n",
      " $ Incomplete Rides                 : chr [1:150000] \"null\" \"1\" \"null\" \"null\" ...\n",
      " $ Incomplete Rides Reason          : chr [1:150000] \"null\" \"Vehicle Breakdown\" \"null\" \"null\" ...\n",
      " $ Booking Value                    : chr [1:150000] \"null\" \"237\" \"627\" \"416\" ...\n",
      " $ Ride Distance                    : chr [1:150000] \"null\" \"5.73\" \"13.58\" \"34.02\" ...\n",
      " $ Driver Ratings                   : chr [1:150000] \"null\" \"null\" \"4.9\" \"4.6\" ...\n",
      " $ Customer Rating                  : chr [1:150000] \"null\" \"null\" \"4.9\" \"5.0\" ...\n",
      " $ Payment Method                   : chr [1:150000] \"null\" \"UPI\" \"Debit Card\" \"UPI\" ...\n",
      " - attr(*, \"spec\")=\n",
      "  .. cols(\n",
      "  ..   Date = \u001b[34mcol_date(format = \"\")\u001b[39m,\n",
      "  ..   Time = \u001b[34mcol_time(format = \"\")\u001b[39m,\n",
      "  ..   `Booking ID` = \u001b[31mcol_character()\u001b[39m,\n",
      "  ..   `Booking Status` = \u001b[31mcol_character()\u001b[39m,\n",
      "  ..   `Customer ID` = \u001b[31mcol_character()\u001b[39m,\n",
      "  ..   `Vehicle Type` = \u001b[31mcol_character()\u001b[39m,\n",
      "  ..   `Pickup Location` = \u001b[31mcol_character()\u001b[39m,\n",
      "  ..   `Drop Location` = \u001b[31mcol_character()\u001b[39m,\n",
      "  ..   `Avg VTAT` = \u001b[31mcol_character()\u001b[39m,\n",
      "  ..   `Avg CTAT` = \u001b[31mcol_character()\u001b[39m,\n",
      "  ..   `Cancelled Rides by Customer` = \u001b[31mcol_character()\u001b[39m,\n",
      "  ..   `Reason for cancelling by Customer` = \u001b[31mcol_character()\u001b[39m,\n",
      "  ..   `Cancelled Rides by Driver` = \u001b[31mcol_character()\u001b[39m,\n",
      "  ..   `Driver Cancellation Reason` = \u001b[31mcol_character()\u001b[39m,\n",
      "  ..   `Incomplete Rides` = \u001b[31mcol_character()\u001b[39m,\n",
      "  ..   `Incomplete Rides Reason` = \u001b[31mcol_character()\u001b[39m,\n",
      "  ..   `Booking Value` = \u001b[31mcol_character()\u001b[39m,\n",
      "  ..   `Ride Distance` = \u001b[31mcol_character()\u001b[39m,\n",
      "  ..   `Driver Ratings` = \u001b[31mcol_character()\u001b[39m,\n",
      "  ..   `Customer Rating` = \u001b[31mcol_character()\u001b[39m,\n",
      "  ..   `Payment Method` = \u001b[31mcol_character()\u001b[39m\n",
      "  .. )\n",
      " - attr(*, \"problems\")=<externalptr> \n"
     ]
    }
   ],
   "source": [
    "head(uber_data)\n",
    "str(uber_data) # to check the structure and the data type"
   ]
  },
  {
   "cell_type": "markdown",
   "id": "9ace5591",
   "metadata": {
    "papermill": {
     "duration": 0.005968,
     "end_time": "2025-09-22T16:37:43.400260",
     "exception": false,
     "start_time": "2025-09-22T16:37:43.394292",
     "status": "completed"
    },
    "tags": []
   },
   "source": [
    "# **6. Data Cleaning**"
   ]
  },
  {
   "cell_type": "code",
   "execution_count": 6,
   "id": "028a197f",
   "metadata": {
    "execution": {
     "iopub.execute_input": "2025-09-22T16:37:43.417471Z",
     "iopub.status.busy": "2025-09-22T16:37:43.415725Z",
     "iopub.status.idle": "2025-09-22T16:37:43.971458Z",
     "shell.execute_reply": "2025-09-22T16:37:43.969820Z"
    },
    "papermill": {
     "duration": 0.566344,
     "end_time": "2025-09-22T16:37:43.974161",
     "exception": false,
     "start_time": "2025-09-22T16:37:43.407817",
     "status": "completed"
    },
    "tags": []
   },
   "outputs": [],
   "source": [
    "# List of columns to convert to numeric\n",
    "numeric_cols <- c(\"Avg VTAT\", \"Avg CTAT\", \"Cancelled Rides by Customer\",\n",
    "                  \"Cancelled Rides by Driver\", \"Incomplete Rides\",\n",
    "                  \"Booking Value\", \"Ride Distance\", \"Driver Ratings\",\n",
    "                  \"Customer Rating\")\n",
    "for(col in numeric_cols){\n",
    "  # Replace \"null\" with NA and then convert the whole column to numeric\n",
    "  uber_data[[col]] <- as.numeric(ifelse(uber_data[[col]] == \"null\", NA, uber_data[[col]]))\n",
    "} # Loop through each column and convert to numeric"
   ]
  },
  {
   "cell_type": "code",
   "execution_count": 7,
   "id": "bb377a24",
   "metadata": {
    "execution": {
     "iopub.execute_input": "2025-09-22T16:37:43.990833Z",
     "iopub.status.busy": "2025-09-22T16:37:43.988883Z",
     "iopub.status.idle": "2025-09-22T16:37:44.101164Z",
     "shell.execute_reply": "2025-09-22T16:37:44.099835Z"
    },
    "papermill": {
     "duration": 0.122522,
     "end_time": "2025-09-22T16:37:44.102951",
     "exception": false,
     "start_time": "2025-09-22T16:37:43.980429",
     "status": "completed"
    },
    "tags": []
   },
   "outputs": [
    {
     "name": "stdout",
     "output_type": "stream",
     "text": [
      "spc_tbl_ [150,000 × 21] (S3: spec_tbl_df/tbl_df/tbl/data.frame)\n",
      " $ Date                             : Date[1:150000], format: \"2024-03-23\" \"2024-11-29\" ...\n",
      " $ Time                             : 'hms' num [1:150000] 12:29:38 18:01:39 08:56:10 17:17:25 ...\n",
      "  ..- attr(*, \"units\")= chr \"secs\"\n",
      " $ Booking ID                       : chr [1:150000] \"\\\"CNR5884300\\\"\" \"\\\"CNR1326809\\\"\" \"\\\"CNR8494506\\\"\" \"\\\"CNR8906825\\\"\" ...\n",
      " $ Booking Status                   : chr [1:150000] \"No Driver Found\" \"Incomplete\" \"Completed\" \"Completed\" ...\n",
      " $ Customer ID                      : chr [1:150000] \"\\\"CID1982111\\\"\" \"\\\"CID4604802\\\"\" \"\\\"CID9202816\\\"\" \"\\\"CID2610914\\\"\" ...\n",
      " $ Vehicle Type                     : chr [1:150000] \"eBike\" \"Go Sedan\" \"Auto\" \"Premier Sedan\" ...\n",
      " $ Pickup Location                  : chr [1:150000] \"Palam Vihar\" \"Shastri Nagar\" \"Khandsa\" \"Central Secretariat\" ...\n",
      " $ Drop Location                    : chr [1:150000] \"Jhilmil\" \"Gurgaon Sector 56\" \"Malviya Nagar\" \"Inderlok\" ...\n",
      " $ Avg VTAT                         : num [1:150000] NA 4.9 13.4 13.1 5.3 5.1 7.1 12.1 NA 6.1 ...\n",
      " $ Avg CTAT                         : num [1:150000] NA 14 25.8 28.5 19.6 18.1 20.4 16.5 NA 26 ...\n",
      " $ Cancelled Rides by Customer      : num [1:150000] NA NA NA NA NA NA NA NA NA NA ...\n",
      " $ Reason for cancelling by Customer: chr [1:150000] \"null\" \"null\" \"null\" \"null\" ...\n",
      " $ Cancelled Rides by Driver        : num [1:150000] NA NA NA NA NA NA NA NA NA NA ...\n",
      " $ Driver Cancellation Reason       : chr [1:150000] \"null\" \"null\" \"null\" \"null\" ...\n",
      " $ Incomplete Rides                 : num [1:150000] NA 1 NA NA NA NA NA NA NA 1 ...\n",
      " $ Incomplete Rides Reason          : chr [1:150000] \"null\" \"Vehicle Breakdown\" \"null\" \"null\" ...\n",
      " $ Booking Value                    : num [1:150000] NA 237 627 416 737 316 640 136 NA 135 ...\n",
      " $ Ride Distance                    : num [1:150000] NA 5.73 13.58 34.02 48.21 ...\n",
      " $ Driver Ratings                   : num [1:150000] NA NA 4.9 4.6 4.1 4.1 4 4.4 NA NA ...\n",
      " $ Customer Rating                  : num [1:150000] NA NA 4.9 5 4.3 4.6 4.1 4.2 NA NA ...\n",
      " $ Payment Method                   : chr [1:150000] \"null\" \"UPI\" \"Debit Card\" \"UPI\" ...\n",
      " - attr(*, \"spec\")=\n",
      "  .. cols(\n",
      "  ..   Date = \u001b[34mcol_date(format = \"\")\u001b[39m,\n",
      "  ..   Time = \u001b[34mcol_time(format = \"\")\u001b[39m,\n",
      "  ..   `Booking ID` = \u001b[31mcol_character()\u001b[39m,\n",
      "  ..   `Booking Status` = \u001b[31mcol_character()\u001b[39m,\n",
      "  ..   `Customer ID` = \u001b[31mcol_character()\u001b[39m,\n",
      "  ..   `Vehicle Type` = \u001b[31mcol_character()\u001b[39m,\n",
      "  ..   `Pickup Location` = \u001b[31mcol_character()\u001b[39m,\n",
      "  ..   `Drop Location` = \u001b[31mcol_character()\u001b[39m,\n",
      "  ..   `Avg VTAT` = \u001b[31mcol_character()\u001b[39m,\n",
      "  ..   `Avg CTAT` = \u001b[31mcol_character()\u001b[39m,\n",
      "  ..   `Cancelled Rides by Customer` = \u001b[31mcol_character()\u001b[39m,\n",
      "  ..   `Reason for cancelling by Customer` = \u001b[31mcol_character()\u001b[39m,\n",
      "  ..   `Cancelled Rides by Driver` = \u001b[31mcol_character()\u001b[39m,\n",
      "  ..   `Driver Cancellation Reason` = \u001b[31mcol_character()\u001b[39m,\n",
      "  ..   `Incomplete Rides` = \u001b[31mcol_character()\u001b[39m,\n",
      "  ..   `Incomplete Rides Reason` = \u001b[31mcol_character()\u001b[39m,\n",
      "  ..   `Booking Value` = \u001b[31mcol_character()\u001b[39m,\n",
      "  ..   `Ride Distance` = \u001b[31mcol_character()\u001b[39m,\n",
      "  ..   `Driver Ratings` = \u001b[31mcol_character()\u001b[39m,\n",
      "  ..   `Customer Rating` = \u001b[31mcol_character()\u001b[39m,\n",
      "  ..   `Payment Method` = \u001b[31mcol_character()\u001b[39m\n",
      "  .. )\n",
      " - attr(*, \"problems\")=<externalptr> \n"
     ]
    },
    {
     "data": {
      "text/plain": [
       "      Date                Time           Booking ID        Booking Status    \n",
       " Min.   :2024-01-01   Length:150000     Length:150000      Length:150000     \n",
       " 1st Qu.:2024-03-31   Class1:hms        Class :character   Class :character  \n",
       " Median :2024-07-01   Class2:difftime   Mode  :character   Mode  :character  \n",
       " Mean   :2024-06-30   Mode  :numeric                                         \n",
       " 3rd Qu.:2024-09-30                                                          \n",
       " Max.   :2024-12-30                                                          \n",
       "                                                                             \n",
       " Customer ID        Vehicle Type       Pickup Location    Drop Location     \n",
       " Length:150000      Length:150000      Length:150000      Length:150000     \n",
       " Class :character   Class :character   Class :character   Class :character  \n",
       " Mode  :character   Mode  :character   Mode  :character   Mode  :character  \n",
       "                                                                            \n",
       "                                                                            \n",
       "                                                                            \n",
       "                                                                            \n",
       "    Avg VTAT         Avg CTAT     Cancelled Rides by Customer\n",
       " Min.   : 2.000   Min.   :10.00   Min.   :1                  \n",
       " 1st Qu.: 5.300   1st Qu.:21.60   1st Qu.:1                  \n",
       " Median : 8.300   Median :28.80   Median :1                  \n",
       " Mean   : 8.456   Mean   :29.15   Mean   :1                  \n",
       " 3rd Qu.:11.300   3rd Qu.:36.80   3rd Qu.:1                  \n",
       " Max.   :20.000   Max.   :45.00   Max.   :1                  \n",
       " NA's   :10500    NA's   :48000   NA's   :139500             \n",
       " Reason for cancelling by Customer Cancelled Rides by Driver\n",
       " Length:150000                     Min.   :1                \n",
       " Class :character                  1st Qu.:1                \n",
       " Mode  :character                  Median :1                \n",
       "                                   Mean   :1                \n",
       "                                   3rd Qu.:1                \n",
       "                                   Max.   :1                \n",
       "                                   NA's   :123000           \n",
       " Driver Cancellation Reason Incomplete Rides Incomplete Rides Reason\n",
       " Length:150000              Min.   :1        Length:150000          \n",
       " Class :character           1st Qu.:1        Class :character       \n",
       " Mode  :character           Median :1        Mode  :character       \n",
       "                            Mean   :1                               \n",
       "                            3rd Qu.:1                               \n",
       "                            Max.   :1                               \n",
       "                            NA's   :141000                          \n",
       " Booking Value    Ride Distance   Driver Ratings  Customer Rating\n",
       " Min.   :  50.0   Min.   : 1.00   Min.   :3.00    Min.   :3.0    \n",
       " 1st Qu.: 234.0   1st Qu.:12.46   1st Qu.:4.10    1st Qu.:4.2    \n",
       " Median : 414.0   Median :23.72   Median :4.30    Median :4.5    \n",
       " Mean   : 508.3   Mean   :24.64   Mean   :4.23    Mean   :4.4    \n",
       " 3rd Qu.: 689.0   3rd Qu.:36.82   3rd Qu.:4.60    3rd Qu.:4.8    \n",
       " Max.   :4277.0   Max.   :50.00   Max.   :5.00    Max.   :5.0    \n",
       " NA's   :48000    NA's   :48000   NA's   :57000   NA's   :57000  \n",
       " Payment Method    \n",
       " Length:150000     \n",
       " Class :character  \n",
       " Mode  :character  \n",
       "                   \n",
       "                   \n",
       "                   \n",
       "                   "
      ]
     },
     "metadata": {},
     "output_type": "display_data"
    }
   ],
   "source": [
    "str(uber_data)\n",
    "summary(uber_data)"
   ]
  },
  {
   "cell_type": "code",
   "execution_count": 8,
   "id": "a8d0a5b4",
   "metadata": {
    "execution": {
     "iopub.execute_input": "2025-09-22T16:37:44.119486Z",
     "iopub.status.busy": "2025-09-22T16:37:44.117801Z",
     "iopub.status.idle": "2025-09-22T16:37:44.290544Z",
     "shell.execute_reply": "2025-09-22T16:37:44.288320Z"
    },
    "papermill": {
     "duration": 0.185314,
     "end_time": "2025-09-22T16:37:44.294653",
     "exception": false,
     "start_time": "2025-09-22T16:37:44.109339",
     "status": "completed"
    },
    "tags": []
   },
   "outputs": [
    {
     "data": {
      "text/html": [
       "<style>\n",
       ".dl-inline {width: auto; margin:0; padding: 0}\n",
       ".dl-inline>dt, .dl-inline>dd {float: none; width: auto; display: inline-block}\n",
       ".dl-inline>dt::after {content: \":\\0020\"; padding-right: .5ex}\n",
       ".dl-inline>dt:not(:first-of-type) {padding-left: .5ex}\n",
       "</style><dl class=dl-inline><dt>Booking ID</dt><dd>0</dd><dt>Booking Status</dt><dd>0</dd><dt>Customer ID</dt><dd>0</dd><dt>Vehicle Type</dt><dd>0</dd><dt>Pickup Location</dt><dd>0</dd><dt>Drop Location</dt><dd>0</dd><dt>Reason for cancelling by Customer</dt><dd>139500</dd><dt>Driver Cancellation Reason</dt><dd>123000</dd><dt>Incomplete Rides Reason</dt><dd>141000</dd><dt>Payment Method</dt><dd>48000</dd></dl>\n"
      ],
      "text/latex": [
       "\\begin{description*}\n",
       "\\item[Booking ID] 0\n",
       "\\item[Booking Status] 0\n",
       "\\item[Customer ID] 0\n",
       "\\item[Vehicle Type] 0\n",
       "\\item[Pickup Location] 0\n",
       "\\item[Drop Location] 0\n",
       "\\item[Reason for cancelling by Customer] 139500\n",
       "\\item[Driver Cancellation Reason] 123000\n",
       "\\item[Incomplete Rides Reason] 141000\n",
       "\\item[Payment Method] 48000\n",
       "\\end{description*}\n"
      ],
      "text/markdown": [
       "Booking ID\n",
       ":   0Booking Status\n",
       ":   0Customer ID\n",
       ":   0Vehicle Type\n",
       ":   0Pickup Location\n",
       ":   0Drop Location\n",
       ":   0Reason for cancelling by Customer\n",
       ":   139500Driver Cancellation Reason\n",
       ":   123000Incomplete Rides Reason\n",
       ":   141000Payment Method\n",
       ":   48000\n",
       "\n"
      ],
      "text/plain": [
       "                       Booking ID                    Booking Status \n",
       "                                0                                 0 \n",
       "                      Customer ID                      Vehicle Type \n",
       "                                0                                 0 \n",
       "                  Pickup Location                     Drop Location \n",
       "                                0                                 0 \n",
       "Reason for cancelling by Customer        Driver Cancellation Reason \n",
       "                           139500                            123000 \n",
       "          Incomplete Rides Reason                    Payment Method \n",
       "                           141000                             48000 "
      ]
     },
     "metadata": {},
     "output_type": "display_data"
    },
    {
     "data": {
      "text/html": [
       "<style>\n",
       ".dl-inline {width: auto; margin:0; padding: 0}\n",
       ".dl-inline>dt, .dl-inline>dd {float: none; width: auto; display: inline-block}\n",
       ".dl-inline>dt::after {content: \":\\0020\"; padding-right: .5ex}\n",
       ".dl-inline>dt:not(:first-of-type) {padding-left: .5ex}\n",
       "</style><dl class=dl-inline><dt>Booking ID</dt><dd>0</dd><dt>Booking Status</dt><dd>0</dd><dt>Customer ID</dt><dd>0</dd><dt>Vehicle Type</dt><dd>0</dd><dt>Pickup Location</dt><dd>0</dd><dt>Drop Location</dt><dd>0</dd><dt>Reason for cancelling by Customer</dt><dd>0</dd><dt>Driver Cancellation Reason</dt><dd>0</dd><dt>Incomplete Rides Reason</dt><dd>0</dd><dt>Payment Method</dt><dd>0</dd></dl>\n"
      ],
      "text/latex": [
       "\\begin{description*}\n",
       "\\item[Booking ID] 0\n",
       "\\item[Booking Status] 0\n",
       "\\item[Customer ID] 0\n",
       "\\item[Vehicle Type] 0\n",
       "\\item[Pickup Location] 0\n",
       "\\item[Drop Location] 0\n",
       "\\item[Reason for cancelling by Customer] 0\n",
       "\\item[Driver Cancellation Reason] 0\n",
       "\\item[Incomplete Rides Reason] 0\n",
       "\\item[Payment Method] 0\n",
       "\\end{description*}\n"
      ],
      "text/markdown": [
       "Booking ID\n",
       ":   0Booking Status\n",
       ":   0Customer ID\n",
       ":   0Vehicle Type\n",
       ":   0Pickup Location\n",
       ":   0Drop Location\n",
       ":   0Reason for cancelling by Customer\n",
       ":   0Driver Cancellation Reason\n",
       ":   0Incomplete Rides Reason\n",
       ":   0Payment Method\n",
       ":   0\n",
       "\n"
      ],
      "text/plain": [
       "                       Booking ID                    Booking Status \n",
       "                                0                                 0 \n",
       "                      Customer ID                      Vehicle Type \n",
       "                                0                                 0 \n",
       "                  Pickup Location                     Drop Location \n",
       "                                0                                 0 \n",
       "Reason for cancelling by Customer        Driver Cancellation Reason \n",
       "                                0                                 0 \n",
       "          Incomplete Rides Reason                    Payment Method \n",
       "                                0                                 0 "
      ]
     },
     "metadata": {},
     "output_type": "display_data"
    },
    {
     "data": {
      "text/html": [
       "<style>\n",
       ".dl-inline {width: auto; margin:0; padding: 0}\n",
       ".dl-inline>dt, .dl-inline>dd {float: none; width: auto; display: inline-block}\n",
       ".dl-inline>dt::after {content: \":\\0020\"; padding-right: .5ex}\n",
       ".dl-inline>dt:not(:first-of-type) {padding-left: .5ex}\n",
       "</style><dl class=dl-inline><dt>Booking ID</dt><dd>0</dd><dt>Booking Status</dt><dd>0</dd><dt>Customer ID</dt><dd>0</dd><dt>Vehicle Type</dt><dd>0</dd><dt>Pickup Location</dt><dd>0</dd><dt>Drop Location</dt><dd>0</dd><dt>Reason for cancelling by Customer</dt><dd>0</dd><dt>Driver Cancellation Reason</dt><dd>0</dd><dt>Incomplete Rides Reason</dt><dd>0</dd><dt>Payment Method</dt><dd>0</dd></dl>\n"
      ],
      "text/latex": [
       "\\begin{description*}\n",
       "\\item[Booking ID] 0\n",
       "\\item[Booking Status] 0\n",
       "\\item[Customer ID] 0\n",
       "\\item[Vehicle Type] 0\n",
       "\\item[Pickup Location] 0\n",
       "\\item[Drop Location] 0\n",
       "\\item[Reason for cancelling by Customer] 0\n",
       "\\item[Driver Cancellation Reason] 0\n",
       "\\item[Incomplete Rides Reason] 0\n",
       "\\item[Payment Method] 0\n",
       "\\end{description*}\n"
      ],
      "text/markdown": [
       "Booking ID\n",
       ":   0Booking Status\n",
       ":   0Customer ID\n",
       ":   0Vehicle Type\n",
       ":   0Pickup Location\n",
       ":   0Drop Location\n",
       ":   0Reason for cancelling by Customer\n",
       ":   0Driver Cancellation Reason\n",
       ":   0Incomplete Rides Reason\n",
       ":   0Payment Method\n",
       ":   0\n",
       "\n"
      ],
      "text/plain": [
       "                       Booking ID                    Booking Status \n",
       "                                0                                 0 \n",
       "                      Customer ID                      Vehicle Type \n",
       "                                0                                 0 \n",
       "                  Pickup Location                     Drop Location \n",
       "                                0                                 0 \n",
       "Reason for cancelling by Customer        Driver Cancellation Reason \n",
       "                                0                                 0 \n",
       "          Incomplete Rides Reason                    Payment Method \n",
       "                                0                                 0 "
      ]
     },
     "metadata": {},
     "output_type": "display_data"
    }
   ],
   "source": [
    "# Select only the character columns to check for any remaining issues\n",
    "uber_data_chr <- uber_data %>%\n",
    "  select(where(is.character))\n",
    "# Check for any remaining 'null' values or empty cells\n",
    "colSums(uber_data_chr == \"null\", na.rm = TRUE)\n",
    "colSums(uber_data_chr == \"\", na.rm = TRUE)\n",
    "colSums(is.na(uber_data_chr))  # Check for R's missing values (NA)"
   ]
  },
  {
   "cell_type": "markdown",
   "id": "d3a1c8ab",
   "metadata": {
    "papermill": {
     "duration": 0.00616,
     "end_time": "2025-09-22T16:37:44.307981",
     "exception": false,
     "start_time": "2025-09-22T16:37:44.301821",
     "status": "completed"
    },
    "tags": []
   },
   "source": [
    "### Overall Performance"
   ]
  },
  {
   "cell_type": "markdown",
   "id": "66bada50",
   "metadata": {
    "papermill": {
     "duration": 0.006193,
     "end_time": "2025-09-22T16:37:44.320474",
     "exception": false,
     "start_time": "2025-09-22T16:37:44.314281",
     "status": "completed"
    },
    "tags": []
   },
   "source": []
  },
  {
   "cell_type": "code",
   "execution_count": 9,
   "id": "1772bed1",
   "metadata": {
    "execution": {
     "iopub.execute_input": "2025-09-22T16:37:44.337829Z",
     "iopub.status.busy": "2025-09-22T16:37:44.336093Z",
     "iopub.status.idle": "2025-09-22T16:37:44.437621Z",
     "shell.execute_reply": "2025-09-22T16:37:44.435334Z"
    },
    "papermill": {
     "duration": 0.11352,
     "end_time": "2025-09-22T16:37:44.439961",
     "exception": false,
     "start_time": "2025-09-22T16:37:44.326441",
     "status": "completed"
    },
    "tags": []
   },
   "outputs": [
    {
     "name": "stdout",
     "output_type": "stream",
     "text": [
      "\u001b[90m# A tibble: 5 × 3\u001b[39m\n",
      "  `Booking Status`      Total_Rides Percentage\n",
      "  \u001b[3m\u001b[90m<chr>\u001b[39m\u001b[23m                       \u001b[3m\u001b[90m<int>\u001b[39m\u001b[23m      \u001b[3m\u001b[90m<dbl>\u001b[39m\u001b[23m\n",
      "\u001b[90m1\u001b[39m Cancelled by Customer       \u001b[4m1\u001b[24m\u001b[4m0\u001b[24m500          7\n",
      "\u001b[90m2\u001b[39m Cancelled by Driver         \u001b[4m2\u001b[24m\u001b[4m7\u001b[24m000         18\n",
      "\u001b[90m3\u001b[39m Completed                   \u001b[4m9\u001b[24m\u001b[4m3\u001b[24m000         62\n",
      "\u001b[90m4\u001b[39m Incomplete                   \u001b[4m9\u001b[24m000          6\n",
      "\u001b[90m5\u001b[39m No Driver Found             \u001b[4m1\u001b[24m\u001b[4m0\u001b[24m500          7\n"
     ]
    }
   ],
   "source": [
    "overall_performance <- uber_data %>%\n",
    "  group_by(`Booking Status`) %>%\n",
    "  summarise(\n",
    "    Total_Rides = n()\n",
    "  ) %>%\n",
    "  mutate(\n",
    "    Percentage = (Total_Rides / sum(Total_Rides)) * 100\n",
    "  ) # Calculate the percentage of rides for each booking status\n",
    "\n",
    "print(overall_performance)"
   ]
  },
  {
   "cell_type": "markdown",
   "id": "3c37aa65",
   "metadata": {
    "papermill": {
     "duration": 0.005906,
     "end_time": "2025-09-22T16:37:44.452558",
     "exception": false,
     "start_time": "2025-09-22T16:37:44.446652",
     "status": "completed"
    },
    "tags": []
   },
   "source": [
    "\n",
    "- **62% of rides were completed**, showing a majority of successful trips.  \n",
    "- **18% of rides were cancelled by drivers** and **7% by customers**, making cancellations a significant challenge.  \n",
    "- **7% of rides had no driver found**, suggesting possible supply-demand imbalance during peak hours or specific locations.  \n",
    "\n",
    "**Recommendation:**  \n",
    "* Focus on driver availability during peak times and identify high-demand zones for better driver allocation.  "
   ]
  },
  {
   "cell_type": "markdown",
   "id": "499632f8",
   "metadata": {
    "papermill": {
     "duration": 0.005985,
     "end_time": "2025-09-22T16:37:44.464413",
     "exception": false,
     "start_time": "2025-09-22T16:37:44.458428",
     "status": "completed"
    },
    "tags": []
   },
   "source": [
    "### Location based patterns"
   ]
  },
  {
   "cell_type": "code",
   "execution_count": 10,
   "id": "a15fd668",
   "metadata": {
    "execution": {
     "iopub.execute_input": "2025-09-22T16:37:44.480950Z",
     "iopub.status.busy": "2025-09-22T16:37:44.479248Z",
     "iopub.status.idle": "2025-09-22T16:37:44.505946Z",
     "shell.execute_reply": "2025-09-22T16:37:44.504601Z"
    },
    "papermill": {
     "duration": 0.038065,
     "end_time": "2025-09-22T16:37:44.508475",
     "exception": false,
     "start_time": "2025-09-22T16:37:44.470410",
     "status": "completed"
    },
    "tags": []
   },
   "outputs": [
    {
     "data": {
      "text/html": [
       "176"
      ],
      "text/latex": [
       "176"
      ],
      "text/markdown": [
       "176"
      ],
      "text/plain": [
       "[1] 176"
      ]
     },
     "metadata": {},
     "output_type": "display_data"
    },
    {
     "data": {
      "text/html": [
       "176"
      ],
      "text/latex": [
       "176"
      ],
      "text/markdown": [
       "176"
      ],
      "text/plain": [
       "[1] 176"
      ]
     },
     "metadata": {},
     "output_type": "display_data"
    }
   ],
   "source": [
    "# Count the total number of unique pickup locations\n",
    "n_distinct(uber_data$`Pickup Location`)\n",
    "\n",
    "# Count the total number of unique drop-off locations\n",
    "n_distinct(uber_data$`Drop Location`)"
   ]
  },
  {
   "cell_type": "code",
   "execution_count": 11,
   "id": "15e8215b",
   "metadata": {
    "execution": {
     "iopub.execute_input": "2025-09-22T16:37:44.526367Z",
     "iopub.status.busy": "2025-09-22T16:37:44.524715Z",
     "iopub.status.idle": "2025-09-22T16:37:44.579794Z",
     "shell.execute_reply": "2025-09-22T16:37:44.578375Z"
    },
    "papermill": {
     "duration": 0.066088,
     "end_time": "2025-09-22T16:37:44.581886",
     "exception": false,
     "start_time": "2025-09-22T16:37:44.515798",
     "status": "completed"
    },
    "tags": []
   },
   "outputs": [
    {
     "name": "stdout",
     "output_type": "stream",
     "text": [
      "\u001b[90m# A tibble: 10 × 4\u001b[39m\n",
      "   `Pickup Location` Total_Rides Driver_Cancellations Percentage\n",
      "   \u001b[3m\u001b[90m<chr>\u001b[39m\u001b[23m                   \u001b[3m\u001b[90m<int>\u001b[39m\u001b[23m                \u001b[3m\u001b[90m<int>\u001b[39m\u001b[23m      \u001b[3m\u001b[90m<dbl>\u001b[39m\u001b[23m\n",
      "\u001b[90m 1\u001b[39m Nehru Place               885                  190       21.5\n",
      "\u001b[90m 2\u001b[39m Vinobapuri                823                  176       21.4\n",
      "\u001b[90m 3\u001b[39m GTB Nagar                 872                  183       21.0\n",
      "\u001b[90m 4\u001b[39m Munirka                   815                  171       21.0\n",
      "\u001b[90m 5\u001b[39m Qutub Minar               823                  172       20.9\n",
      "\u001b[90m 6\u001b[39m Chhatarpur                829                  173       20.9\n",
      "\u001b[90m 7\u001b[39m Rajouri Garden            852                  176       20.7\n",
      "\u001b[90m 8\u001b[39m Shivaji Park              900                  185       20.6\n",
      "\u001b[90m 9\u001b[39m Shahdara                  820                  168       20.5\n",
      "\u001b[90m10\u001b[39m Vatika Chowk              833                  170       20.4\n"
     ]
    }
   ],
   "source": [
    "# Find the top 10 pickup locations with the highest driver cancellation percentages\n",
    "driver_cancel_pickup <- uber_data %>%\n",
    "  group_by(`Pickup Location`) %>%   # Group the data by each pickup location\n",
    "  # Calculate the totals for each location\n",
    "  summarise(\n",
    "    Total_Rides = n(),\n",
    "    Driver_Cancellations = sum(`Booking Status` == \"Cancelled by Driver\")\n",
    "  ) %>%\n",
    "  mutate(Percentage = (Driver_Cancellations / Total_Rides) * 100) %>% # Add a new column with the cancellation percentage\n",
    "  filter(Total_Rides >= 50) %>%  # Keep only locations with a decent number of rides\n",
    "  arrange(desc(Percentage)) %>%  # Arrange the results in descending order based on the cancellation percentage\n",
    "  head(10) # Show only the top 10 results\n",
    "\n",
    "print(driver_cancel_pickup)"
   ]
  },
  {
   "cell_type": "code",
   "execution_count": 12,
   "id": "a7f0e0e1",
   "metadata": {
    "execution": {
     "iopub.execute_input": "2025-09-22T16:37:44.598665Z",
     "iopub.status.busy": "2025-09-22T16:37:44.596939Z",
     "iopub.status.idle": "2025-09-22T16:37:44.647682Z",
     "shell.execute_reply": "2025-09-22T16:37:44.646253Z"
    },
    "papermill": {
     "duration": 0.061272,
     "end_time": "2025-09-22T16:37:44.649876",
     "exception": false,
     "start_time": "2025-09-22T16:37:44.588604",
     "status": "completed"
    },
    "tags": []
   },
   "outputs": [
    {
     "name": "stdout",
     "output_type": "stream",
     "text": [
      "\u001b[90m# A tibble: 10 × 4\u001b[39m\n",
      "   `Drop Location`    Total_Rides Driver_Cancellations Percentage\n",
      "   \u001b[3m\u001b[90m<chr>\u001b[39m\u001b[23m                    \u001b[3m\u001b[90m<int>\u001b[39m\u001b[23m                \u001b[3m\u001b[90m<int>\u001b[39m\u001b[23m      \u001b[3m\u001b[90m<dbl>\u001b[39m\u001b[23m\n",
      "\u001b[90m 1\u001b[39m Vasant Kunj                802                  183       22.8\n",
      "\u001b[90m 2\u001b[39m Gurgaon Sector 29          827                  176       21.3\n",
      "\u001b[90m 3\u001b[39m Govindpuri                 837                  178       21.3\n",
      "\u001b[90m 4\u001b[39m Basai Dhankot              917                  192       20.9\n",
      "\u001b[90m 5\u001b[39m Pataudi Chowk              841                  174       20.7\n",
      "\u001b[90m 6\u001b[39m Bhikaji Cama Place         853                  176       20.6\n",
      "\u001b[90m 7\u001b[39m Keshav Puram               839                  172       20.5\n",
      "\u001b[90m 8\u001b[39m Ardee City                 875                  178       20.3\n",
      "\u001b[90m 9\u001b[39m Vidhan Sabha               868                  175       20.2\n",
      "\u001b[90m10\u001b[39m Ghitorni                   877                  176       20.1\n"
     ]
    }
   ],
   "source": [
    "# Find the top 10 drop locations with the highest driver cancellation percentages\n",
    "driver_cancel_drop <- uber_data %>%\n",
    "  # Group the data by each unique drop-off location\n",
    "  group_by(`Drop Location`) %>%\n",
    "  # Summarize the data for each location\n",
    "  summarise(\n",
    "    Total_Rides = n(),\n",
    "    Driver_Cancellations = sum(`Booking Status` == \"Cancelled by Driver\"),\n",
    "    Percentage = (Driver_Cancellations / Total_Rides) * 100 ) %>%\n",
    "  filter(Total_Rides >= 50) %>%  # Filter out locations with a small number of rides to ensure the rates are meaningful\n",
    "  arrange(desc(Percentage)) %>%  # Arrange the results in descending order based on the cancellation percentage\n",
    "  head(10) # Take the top 10 locations from the arranged list\n",
    "print(driver_cancel_drop)"
   ]
  },
  {
   "cell_type": "markdown",
   "id": "17f2b915",
   "metadata": {
    "papermill": {
     "duration": 0.006063,
     "end_time": "2025-09-22T16:37:44.662984",
     "exception": false,
     "start_time": "2025-09-22T16:37:44.656921",
     "status": "completed"
    },
    "tags": []
   },
   "source": [
    "\n",
    "- Locations such as **Nehru Place, Vinobapuri, GTB Nagar, Munirka, and Qutub Minar** have **higher driver cancellation percentages (~21%)** compared to other areas.  \n",
    "- Similar patterns were seen in **Vasant Kunj, Gurgaon Sector 29, Govindapuri, Basai Dhankot**, and others.  \n",
    "\n",
    "**Recommendation:**  \n",
    "* Investigate why driver cancellations are high in these locations — possible reasons could include traffic congestion, perceived safety, or lower fare-to-distance ratio.  \n",
    "* Incentives or targeted driver engagement may reduce cancellations in these areas.  "
   ]
  },
  {
   "cell_type": "markdown",
   "id": "0465673c",
   "metadata": {
    "papermill": {
     "duration": 0.005926,
     "end_time": "2025-09-22T16:37:44.674885",
     "exception": false,
     "start_time": "2025-09-22T16:37:44.668959",
     "status": "completed"
    },
    "tags": []
   },
   "source": [
    "### Vehicle type analysis"
   ]
  },
  {
   "cell_type": "code",
   "execution_count": 13,
   "id": "3b40431c",
   "metadata": {
    "execution": {
     "iopub.execute_input": "2025-09-22T16:37:44.691315Z",
     "iopub.status.busy": "2025-09-22T16:37:44.689641Z",
     "iopub.status.idle": "2025-09-22T16:37:44.780300Z",
     "shell.execute_reply": "2025-09-22T16:37:44.778802Z"
    },
    "papermill": {
     "duration": 0.101277,
     "end_time": "2025-09-22T16:37:44.782339",
     "exception": false,
     "start_time": "2025-09-22T16:37:44.681062",
     "status": "completed"
    },
    "tags": []
   },
   "outputs": [
    {
     "name": "stdout",
     "output_type": "stream",
     "text": [
      "\u001b[90m# A tibble: 7 × 12\u001b[39m\n",
      "  `Vehicle Type` Total_Rides Completed_Rides Driver_Cancellations\n",
      "  \u001b[3m\u001b[90m<chr>\u001b[39m\u001b[23m                \u001b[3m\u001b[90m<int>\u001b[39m\u001b[23m           \u001b[3m\u001b[90m<int>\u001b[39m\u001b[23m                \u001b[3m\u001b[90m<int>\u001b[39m\u001b[23m\n",
      "\u001b[90m1\u001b[39m Auto                 \u001b[4m3\u001b[24m\u001b[4m7\u001b[24m419           \u001b[4m2\u001b[24m\u001b[4m3\u001b[24m155                 \u001b[4m6\u001b[24m643\n",
      "\u001b[90m2\u001b[39m Go Mini              \u001b[4m2\u001b[24m\u001b[4m9\u001b[24m806           \u001b[4m1\u001b[24m\u001b[4m8\u001b[24m549                 \u001b[4m5\u001b[24m330\n",
      "\u001b[90m3\u001b[39m Go Sedan             \u001b[4m2\u001b[24m\u001b[4m7\u001b[24m141           \u001b[4m1\u001b[24m\u001b[4m6\u001b[24m676                 \u001b[4m5\u001b[24m031\n",
      "\u001b[90m4\u001b[39m Bike                 \u001b[4m2\u001b[24m\u001b[4m2\u001b[24m517           \u001b[4m1\u001b[24m\u001b[4m4\u001b[24m034                 \u001b[4m4\u001b[24m077\n",
      "\u001b[90m5\u001b[39m Premier Sedan        \u001b[4m1\u001b[24m\u001b[4m8\u001b[24m111           \u001b[4m1\u001b[24m\u001b[4m1\u001b[24m252                 \u001b[4m3\u001b[24m250\n",
      "\u001b[90m6\u001b[39m eBike                \u001b[4m1\u001b[24m\u001b[4m0\u001b[24m557            \u001b[4m6\u001b[24m551                 \u001b[4m1\u001b[24m907\n",
      "\u001b[90m7\u001b[39m Uber XL               \u001b[4m4\u001b[24m449            \u001b[4m2\u001b[24m783                  762\n",
      "\u001b[90m# ℹ 8 more variables: Customer_Cancellations <int>, No_Driver_Found <int>,\u001b[39m\n",
      "\u001b[90m#   Incomplete_Rides <int>, Completed_Percentage <dbl>,\u001b[39m\n",
      "\u001b[90m#   Driver_Cancel_Percentage <dbl>, Customer_Cancel_Percentage <dbl>,\u001b[39m\n",
      "\u001b[90m#   No_Driver_Found_Percentage <dbl>, Incomplete_Percentage <dbl>\u001b[39m\n"
     ]
    }
   ],
   "source": [
    "# Calculate percentage of each booking status by vehicle type\n",
    "vehicle_type_performance <- uber_data %>%\n",
    "  # Group the data by vehicle type\n",
    "  group_by(`Vehicle Type`) %>%\n",
    "  # Summarize the counts\n",
    "  summarise(\n",
    "    Total_Rides = n(),\n",
    "    Completed_Rides = sum(`Booking Status` == \"Completed\"),\n",
    "    Driver_Cancellations = sum(`Booking Status` == \"Cancelled by Driver\"),\n",
    "    Customer_Cancellations = sum(`Booking Status` == \"Cancelled by Customer\"),\n",
    "    No_Driver_Found = sum(`Booking Status` == \"No Driver Found\"),\n",
    "    Incomplete_Rides = sum(`Booking Status` == \"Incomplete\")\n",
    "  ) %>%\n",
    "  # calculate all the percentages\n",
    "  mutate(\n",
    "    Completed_Percentage = (Completed_Rides / Total_Rides) * 100,\n",
    "    Driver_Cancel_Percentage = (Driver_Cancellations / Total_Rides) * 100,\n",
    "    Customer_Cancel_Percentage = (Customer_Cancellations / Total_Rides) * 100,\n",
    "    No_Driver_Found_Percentage = (No_Driver_Found / Total_Rides) * 100,\n",
    "    Incomplete_Percentage = (Incomplete_Rides / Total_Rides) * 100\n",
    "  ) %>%\n",
    "\n",
    "  arrange(desc(Total_Rides))\n",
    "\n",
    "print(vehicle_type_performance)"
   ]
  },
  {
   "cell_type": "code",
   "execution_count": 14,
   "id": "1307bd38",
   "metadata": {
    "execution": {
     "iopub.execute_input": "2025-09-22T16:37:44.799774Z",
     "iopub.status.busy": "2025-09-22T16:37:44.798153Z",
     "iopub.status.idle": "2025-09-22T16:37:44.836426Z",
     "shell.execute_reply": "2025-09-22T16:37:44.834099Z"
    },
    "papermill": {
     "duration": 0.049335,
     "end_time": "2025-09-22T16:37:44.838807",
     "exception": false,
     "start_time": "2025-09-22T16:37:44.789472",
     "status": "completed"
    },
    "tags": []
   },
   "outputs": [
    {
     "name": "stdout",
     "output_type": "stream",
     "text": [
      "\u001b[90m# A tibble: 7 × 4\u001b[39m\n",
      "  `Vehicle Type` Total_Rides Customer_Cancel_Percentage Driver_Cancel_Percentage\n",
      "  \u001b[3m\u001b[90m<chr>\u001b[39m\u001b[23m                \u001b[3m\u001b[90m<int>\u001b[39m\u001b[23m                      \u001b[3m\u001b[90m<dbl>\u001b[39m\u001b[23m                    \u001b[3m\u001b[90m<dbl>\u001b[39m\u001b[23m\n",
      "\u001b[90m1\u001b[39m Go Sedan             \u001b[4m2\u001b[24m\u001b[4m7\u001b[24m141                       6.75                     18.5\n",
      "\u001b[90m2\u001b[39m Bike                 \u001b[4m2\u001b[24m\u001b[4m2\u001b[24m517                       6.99                     18.1\n",
      "\u001b[90m3\u001b[39m eBike                \u001b[4m1\u001b[24m\u001b[4m0\u001b[24m557                       6.85                     18.1\n",
      "\u001b[90m4\u001b[39m Premier Sedan        \u001b[4m1\u001b[24m\u001b[4m8\u001b[24m111                       6.99                     17.9\n",
      "\u001b[90m5\u001b[39m Go Mini              \u001b[4m2\u001b[24m\u001b[4m9\u001b[24m806                       7.04                     17.9\n",
      "\u001b[90m6\u001b[39m Auto                 \u001b[4m3\u001b[24m\u001b[4m7\u001b[24m419                       7.16                     17.8\n",
      "\u001b[90m7\u001b[39m Uber XL               \u001b[4m4\u001b[24m449                       7.35                     17.1\n"
     ]
    }
   ],
   "source": [
    "# View the key performance percentages for each vehicle type\n",
    "vehicle_type_performance_summary <- vehicle_type_performance %>%\n",
    "  select(\n",
    "    `Vehicle Type`,\n",
    "    Total_Rides,\n",
    "    Customer_Cancel_Percentage,\n",
    "    Driver_Cancel_Percentage,\n",
    "  ) %>%\n",
    "  \n",
    "  arrange(desc(Driver_Cancel_Percentage))\n",
    "\n",
    "print(vehicle_type_performance_summary)"
   ]
  },
  {
   "cell_type": "markdown",
   "id": "73702bf4",
   "metadata": {
    "papermill": {
     "duration": 0.007276,
     "end_time": "2025-09-22T16:37:44.853082",
     "exception": false,
     "start_time": "2025-09-22T16:37:44.845806",
     "status": "completed"
    },
    "tags": []
   },
   "source": [
    "\n",
    "- **Auto** and **Go Mini** are the most frequently used vehicle types.  \n",
    "- **Go Sedan has the highest driver cancellation rate (18.5%)**, followed closely by Bike and eBike (~18%).  \n",
    "- Uber XL has the lowest driver cancellation percentage (17.1%).  \n",
    "\n",
    "**Recommendation:**  \n",
    "* Investigate why cancellations are higher for Go Sedan — fare pricing, pickup locations, or driver availability could be factors.  \n",
    "* Driver engagement programs or better fare optimization may reduce this number.  "
   ]
  },
  {
   "cell_type": "code",
   "execution_count": 15,
   "id": "a4a9a2dc",
   "metadata": {
    "execution": {
     "iopub.execute_input": "2025-09-22T16:37:44.870722Z",
     "iopub.status.busy": "2025-09-22T16:37:44.869003Z",
     "iopub.status.idle": "2025-09-22T16:37:44.971961Z",
     "shell.execute_reply": "2025-09-22T16:37:44.969859Z"
    },
    "papermill": {
     "duration": 0.115025,
     "end_time": "2025-09-22T16:37:44.975220",
     "exception": false,
     "start_time": "2025-09-22T16:37:44.860195",
     "status": "completed"
    },
    "tags": []
   },
   "outputs": [
    {
     "name": "stdout",
     "output_type": "stream",
     "text": [
      "\u001b[90m# A tibble: 4 × 8\u001b[39m\n",
      "  Distance_Category Total_Rides Driver_Cancellations Customer_Cancellations\n",
      "  \u001b[3m\u001b[90m<chr>\u001b[39m\u001b[23m                   \u001b[3m\u001b[90m<int>\u001b[39m\u001b[23m                \u001b[3m\u001b[90m<int>\u001b[39m\u001b[23m                  \u001b[3m\u001b[90m<int>\u001b[39m\u001b[23m\n",
      "\u001b[90m1\u001b[39m Long (>8 km)            \u001b[4m8\u001b[24m\u001b[4m7\u001b[24m143                    0                      0\n",
      "\u001b[90m2\u001b[39m Medium (3-8 km)         \u001b[4m1\u001b[24m\u001b[4m2\u001b[24m006                    0                      0\n",
      "\u001b[90m3\u001b[39m Short (0-3 km)           \u001b[4m2\u001b[24m851                    0                      0\n",
      "\u001b[90m4\u001b[39m \u001b[31mNA\u001b[39m                      \u001b[4m4\u001b[24m\u001b[4m8\u001b[24m000                \u001b[4m2\u001b[24m\u001b[4m7\u001b[24m000                  \u001b[4m1\u001b[24m\u001b[4m0\u001b[24m500\n",
      "\u001b[90m# ℹ 4 more variables: No_Driver_Found <int>, Driver_Cancel_Percentage <dbl>,\u001b[39m\n",
      "\u001b[90m#   Customer_Cancel_Percentage <dbl>, No_Driver_Found_Percentage <dbl>\u001b[39m\n"
     ]
    }
   ],
   "source": [
    "# Ride Distance vs. Cancellation Analysis\n",
    "\n",
    "# Categorize rides based on distance\n",
    "uber_data <- uber_data %>%\n",
    "  mutate(\n",
    "    Distance_Category = case_when(\n",
    "      `Ride Distance` <= 3 ~ \"Short (0-3 km)\",\n",
    "      `Ride Distance` > 3 & `Ride Distance` <= 8 ~ \"Medium (3-8 km)\",\n",
    "      `Ride Distance` > 8 ~ \"Long (>8 km)\"\n",
    "    )\n",
    "  )\n",
    "\n",
    "# Summarize cancellations by distance category\n",
    "distance_cancellation <- uber_data %>%\n",
    "  group_by(Distance_Category) %>%\n",
    "  summarise(\n",
    "    Total_Rides = n(),\n",
    "    Driver_Cancellations = sum(`Booking Status` == \"Cancelled by Driver\", na.rm = TRUE),\n",
    "    Customer_Cancellations = sum(`Booking Status` == \"Cancelled by Customer\", na.rm = TRUE),\n",
    "    No_Driver_Found = sum(`Booking Status` == \"No Driver Found\", na.rm = TRUE)\n",
    "  ) %>%\n",
    "  mutate(\n",
    "    Driver_Cancel_Percentage = (Driver_Cancellations / Total_Rides) * 100,\n",
    "    Customer_Cancel_Percentage = (Customer_Cancellations / Total_Rides) * 100,\n",
    "    No_Driver_Found_Percentage = (No_Driver_Found / Total_Rides) * 100\n",
    "  )\n",
    "\n",
    "print(distance_cancellation)\n",
    "\n"
   ]
  },
  {
   "cell_type": "markdown",
   "id": "a2fd12b8",
   "metadata": {
    "papermill": {
     "duration": 0.006542,
     "end_time": "2025-09-22T16:37:44.989296",
     "exception": false,
     "start_time": "2025-09-22T16:37:44.982754",
     "status": "completed"
    },
    "tags": []
   },
   "source": [
    "\n",
    "- **100% of cancellations occur in rides with missing distance data.**  \n",
    "- This strongly suggests that **distance is only logged for completed rides**, not cancelled ones.  \n",
    "\n",
    "**Recommendation:**  \n",
    "* Capture estimated ride distance **at the booking stage** (before assignment) to allow meaningful analysis of how distance impacts cancellations. "
   ]
  },
  {
   "cell_type": "markdown",
   "id": "7904ff9f",
   "metadata": {
    "papermill": {
     "duration": 0.006602,
     "end_time": "2025-09-22T16:37:45.002669",
     "exception": false,
     "start_time": "2025-09-22T16:37:44.996067",
     "status": "completed"
    },
    "tags": []
   },
   "source": [
    "### Waiting Time & Completion Analysis"
   ]
  },
  {
   "cell_type": "code",
   "execution_count": 16,
   "id": "422e0189",
   "metadata": {
    "execution": {
     "iopub.execute_input": "2025-09-22T16:37:45.020849Z",
     "iopub.status.busy": "2025-09-22T16:37:45.019148Z",
     "iopub.status.idle": "2025-09-22T16:37:45.108154Z",
     "shell.execute_reply": "2025-09-22T16:37:45.106730Z"
    },
    "papermill": {
     "duration": 0.100797,
     "end_time": "2025-09-22T16:37:45.110445",
     "exception": false,
     "start_time": "2025-09-22T16:37:45.009648",
     "status": "completed"
    },
    "tags": []
   },
   "outputs": [
    {
     "name": "stdout",
     "output_type": "stream",
     "text": [
      "\u001b[90m# A tibble: 5 × 5\u001b[39m\n",
      "  `Booking Status`   Avg_CTAT_Mean Avg_CTAT_Median Avg_VTAT_Mean Avg_VTAT_Median\n",
      "  \u001b[3m\u001b[90m<chr>\u001b[39m\u001b[23m                      \u001b[3m\u001b[90m<dbl>\u001b[39m\u001b[23m           \u001b[3m\u001b[90m<dbl>\u001b[39m\u001b[23m         \u001b[3m\u001b[90m<dbl>\u001b[39m\u001b[23m           \u001b[3m\u001b[90m<dbl>\u001b[39m\u001b[23m\n",
      "\u001b[90m1\u001b[39m Completed                   30.0              30          8.51             8.5\n",
      "\u001b[90m2\u001b[39m Incomplete                  20.0              20          6.01             6  \n",
      "\u001b[90m3\u001b[39m Cancelled by Cust…         \u001b[31mNaN\u001b[39m                \u001b[31mNA\u001b[39m         12.5             12.6\n",
      "\u001b[90m4\u001b[39m Cancelled by Driv…         \u001b[31mNaN\u001b[39m                \u001b[31mNA\u001b[39m          7.50             7.5\n",
      "\u001b[90m5\u001b[39m No Driver Found            \u001b[31mNaN\u001b[39m                \u001b[31mNA\u001b[39m        \u001b[31mNaN\u001b[39m               \u001b[31mNA\u001b[39m  \n"
     ]
    }
   ],
   "source": [
    "# Compare Avg CTAT and Avg VTAT by booking status\n",
    "waiting_time_comparison <- uber_data %>%\n",
    "  group_by(`Booking Status`) %>%\n",
    "  # Summarize the average and median for both Avg CTAT and Avg VTAT\n",
    "  summarise(\n",
    "    Avg_CTAT_Mean = mean(`Avg CTAT`, na.rm = TRUE),\n",
    "    Avg_CTAT_Median = median(`Avg CTAT`, na.rm = TRUE),\n",
    "    Avg_VTAT_Mean = mean(`Avg VTAT`, na.rm = TRUE),\n",
    "    Avg_VTAT_Median = median(`Avg VTAT`, na.rm = TRUE)\n",
    "  ) %>%\n",
    " \n",
    "  arrange(desc(Avg_CTAT_Mean))\n",
    "\n",
    "print(waiting_time_comparison)"
   ]
  },
  {
   "cell_type": "markdown",
   "id": "6ab55554",
   "metadata": {
    "papermill": {
     "duration": 0.007284,
     "end_time": "2025-09-22T16:37:45.125261",
     "exception": false,
     "start_time": "2025-09-22T16:37:45.117977",
     "status": "completed"
    },
    "tags": []
   },
   "source": [
    "\n",
    "- **Completed rides have the highest Avg CTAT (30 min)**, meaning they typically take longer trips — which is good for revenue.  \n",
    "- **Cancelled rides and no-driver-found bookings do not have waiting time data recorded**, which limits analysis.  \n",
    "\n",
    "**Recommendation:**  \n",
    "* Track waiting time even for cancelled rides to understand how long customers wait before cancelling.  "
   ]
  },
  {
   "cell_type": "markdown",
   "id": "77ca9cd2",
   "metadata": {
    "papermill": {
     "duration": 0.006948,
     "end_time": "2025-09-22T16:37:45.139185",
     "exception": false,
     "start_time": "2025-09-22T16:37:45.132237",
     "status": "completed"
    },
    "tags": []
   },
   "source": [
    "# **7.Data Visualization**"
   ]
  },
  {
   "cell_type": "code",
   "execution_count": 17,
   "id": "de7e386c",
   "metadata": {
    "execution": {
     "iopub.execute_input": "2025-09-22T16:37:45.157743Z",
     "iopub.status.busy": "2025-09-22T16:37:45.156075Z",
     "iopub.status.idle": "2025-09-22T16:37:46.862948Z",
     "shell.execute_reply": "2025-09-22T16:37:46.861166Z"
    },
    "papermill": {
     "duration": 1.719108,
     "end_time": "2025-09-22T16:37:46.865428",
     "exception": false,
     "start_time": "2025-09-22T16:37:45.146320",
     "status": "completed"
    },
    "tags": []
   },
   "outputs": [
    {
     "name": "stderr",
     "output_type": "stream",
     "text": [
      "Warning message:\n",
      "“\u001b[1m\u001b[22mRemoved 10500 rows containing non-finite outside the scale range\n",
      "(`stat_boxplot()`).”\n"
     ]
    },
    {
     "name": "stderr",
     "output_type": "stream",
     "text": [
      "Warning message:\n",
      "“\u001b[1m\u001b[22mRemoved 10500 rows containing non-finite outside the scale range\n",
      "(`stat_summary()`).”\n"
     ]
    },
    {
     "data": {
      "image/png": "[encoded data removed]"
     },
     "metadata": {
      "image/png": {
       "height": 420,
       "width": 420
      }
     },
     "output_type": "display_data"
    }
   ],
   "source": [
    "# Boxplot for waiting time vs booking status with average waiting time highlighted\n",
    "ggplot(uber_data, aes(x = `Booking Status`, y = `Avg VTAT`)) +\n",
    "  geom_boxplot(fill = \"lightblue\") +\n",
    "  # Add a red dot to show the average waiting time on each box\n",
    "  stat_summary(fun = mean, geom = \"point\", shape = 23, size = 4, fill = \"red\") +\n",
    "  theme_minimal() +\n",
    "  labs(title = \"Waiting Time vs Booking Status\", x = \"Booking Status\", y = \"Avg Waiting Time (minutes)\") +\n",
    "  theme(axis.text.x = element_text(angle = 45, hjust = 1))"
   ]
  },
  {
   "cell_type": "markdown",
   "id": "62b73eb7",
   "metadata": {
    "papermill": {
     "duration": 0.008208,
     "end_time": "2025-09-22T16:37:46.882282",
     "exception": false,
     "start_time": "2025-09-22T16:37:46.874074",
     "status": "completed"
    },
    "tags": []
   },
   "source": [
    "**Insight**: The boxplot visually confirms that waiting time is directly linked to customer cancellations. The Cancelled by Customer category has a significantly higher average waiting time than any other group, proving that longer waits lead to customers abandoning their trips."
   ]
  },
  {
   "cell_type": "code",
   "execution_count": 18,
   "id": "818771da",
   "metadata": {
    "execution": {
     "iopub.execute_input": "2025-09-22T16:37:46.902360Z",
     "iopub.status.busy": "2025-09-22T16:37:46.900712Z",
     "iopub.status.idle": "2025-09-22T16:37:47.141747Z",
     "shell.execute_reply": "2025-09-22T16:37:47.140312Z"
    },
    "papermill": {
     "duration": 0.253942,
     "end_time": "2025-09-22T16:37:47.144285",
     "exception": false,
     "start_time": "2025-09-22T16:37:46.890343",
     "status": "completed"
    },
    "tags": []
   },
   "outputs": [
    {
     "data": {
      "image/png": "[encoded data removed]"
     },
     "metadata": {
      "image/png": {
       "height": 420,
       "width": 420
      }
     },
     "output_type": "display_data"
    }
   ],
   "source": [
    "# Corrected code for the bar chart\n",
    "uber_data %>%\n",
    "  group_by(`Drop Location`) %>%\n",
    "  summarise(Driver_Cancel = sum(`Booking Status` == \"Cancelled by Driver\", na.rm = TRUE)) %>%\n",
    "  arrange(desc(Driver_Cancel)) %>%\n",
    "  top_n(10, Driver_Cancel) %>%\n",
    "  ggplot(aes(x = reorder(`Drop Location`, Driver_Cancel), y = Driver_Cancel)) +\n",
    "  geom_col() +\n",
    "  coord_flip() +\n",
    "  labs(title = \"Top 10 Locations with Highest Driver Cancellations\",\n",
    "       x = \"Drop Location\",\n",
    "       y = \"Driver Cancellations\")"
   ]
  },
  {
   "cell_type": "markdown",
   "id": "2ee79405",
   "metadata": {
    "papermill": {
     "duration": 0.008856,
     "end_time": "2025-09-22T16:37:47.162128",
     "exception": false,
     "start_time": "2025-09-22T16:37:47.153272",
     "status": "completed"
    },
    "tags": []
   },
   "source": [
    "**Insight**: The bar chart identifies the specific region with the highest number of driver cancellations. This visually supports the conclusion that the cancellation problem is not random but concentrated in certain areas."
   ]
  },
  {
   "cell_type": "code",
   "execution_count": 19,
   "id": "bac1035c",
   "metadata": {
    "execution": {
     "iopub.execute_input": "2025-09-22T16:37:47.182908Z",
     "iopub.status.busy": "2025-09-22T16:37:47.181232Z",
     "iopub.status.idle": "2025-09-22T16:37:47.722058Z",
     "shell.execute_reply": "2025-09-22T16:37:47.720568Z"
    },
    "papermill": {
     "duration": 0.554358,
     "end_time": "2025-09-22T16:37:47.724754",
     "exception": false,
     "start_time": "2025-09-22T16:37:47.170396",
     "status": "completed"
    },
    "tags": []
   },
   "outputs": [
    {
     "data": {
      "image/png": "[encoded data removed]"
     },
     "metadata": {
      "image/png": {
       "height": 420,
       "width": 420
      }
     },
     "output_type": "display_data"
    }
   ],
   "source": [
    "# Overall Ride Status Bar Chart\n",
    "\n",
    "uber_data %>%\n",
    "  ggplot(aes(x = `Booking Status`, fill = `Booking Status`)) +\n",
    "  geom_bar() +\n",
    "  labs(\n",
    "    title = \"Overall Ride Status Distribution\",\n",
    "    x = \"Booking Status\",\n",
    "    y = \"Number of Rides\"\n",
    "  ) +\n",
    "  theme_minimal() +\n",
    "  theme(axis.text.x = element_text(angle = 45, hjust = 1))"
   ]
  },
  {
   "cell_type": "markdown",
   "id": "dce105ac",
   "metadata": {
    "papermill": {
     "duration": 0.009898,
     "end_time": "2025-09-22T16:37:47.744869",
     "exception": false,
     "start_time": "2025-09-22T16:37:47.734971",
     "status": "completed"
    },
    "tags": []
   },
   "source": [
    "**Insight**: The bar chart visually confirms that while the majority of rides are completed, driver cancellations are the single largest reason for an uncompleted trip."
   ]
  },
  {
   "cell_type": "markdown",
   "id": "386d855d",
   "metadata": {
    "papermill": {
     "duration": 0.009609,
     "end_time": "2025-09-22T16:37:47.764093",
     "exception": false,
     "start_time": "2025-09-22T16:37:47.754484",
     "status": "completed"
    },
    "tags": []
   },
   "source": []
  },
  {
   "cell_type": "markdown",
   "id": "afb4acb5",
   "metadata": {
    "papermill": {
     "duration": 0.009717,
     "end_time": "2025-09-22T16:37:47.783726",
     "exception": false,
     "start_time": "2025-09-22T16:37:47.774009",
     "status": "completed"
    },
    "tags": []
   },
   "source": [
    "# **8. Conclusion and Recommendations**\n",
    "\n",
    "**Conclusion**\n",
    "\n",
    "Based on a comprehensive analysis of the rideshare data, the primary challenge is a high rate of uncompleted rides, with **driver cancellations** being the largest single contributing factor. The analysis showed that this is not a random problem, but a **systemic issue** that is concentrated in specific locations and with certain vehicle types. Most critically, driver cancellations are the likely root cause of **longer waiting times**, which in turn leads to customer cancellations. Therefore, to improve overall ride completion, the company must focus on addressing driver behavior and incentives.\n",
    "\n",
    "**Recommendations**\n",
    "\n",
    "* Record essential metrics, such as estimated distance and waiting time, for all ride requests, including those that are cancelled. This is crucial for future analysis and business intelligence.\n",
    "\n",
    "* Focus on reducing driver cancellations, as this is the primary driver of longer waiting times and subsequent customer cancellations.\n",
    "\n",
    "* Use the analysis of location and vehicle types to create specific solutions for high-cancellation zones and high-cancellation vehicle types.\n",
    "\n",
    "* Consider offering incentives or bonuses for drivers who maintain a low cancellation rate, particularly in the problematic locations you identified.\n"
   ]
  }
 ],
 "metadata": {
  "kaggle": {
   "accelerator": "none",
   "dataSources": [
    {
     "datasetId": 8032385,
     "sourceId": 12709507,
     "sourceType": "datasetVersion"
    }
   ],
   "dockerImageVersionId": 30749,
   "isGpuEnabled": false,
   "isInternetEnabled": true,
   "language": "r",
   "sourceType": "notebook"
  },
  "kernelspec": {
   "display_name": "R",
   "language": "R",
   "name": "ir"
  },
  "language_info": {
   "codemirror_mode": "r",
   "file_extension": ".r",
   "mimetype": "text/x-r-source",
   "name": "R",
   "pygments_lexer": "r",
   "version": "4.4.0"
  },
  "papermill": {
   "default_parameters": {},
   "duration": 11.055973,
   "end_time": "2025-09-22T16:37:47.920113",
   "environment_variables": {},
   "exception": null,
   "input_path": "__notebook__.ipynb",
   "output_path": "__notebook__.ipynb",
   "parameters": {},
   "start_time": "2025-09-22T16:37:36.864140",
   "version": "2.6.0"
  }
 },
 "nbformat": 4,
 "nbformat_minor": 5
}
